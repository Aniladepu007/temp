{
  "nbformat": 4,
  "nbformat_minor": 0,
  "metadata": {
    "colab": {
      "name": "MNIST Classification.ipynb",
      "provenance": []
    },
    "kernelspec": {
      "name": "python3",
      "display_name": "Python 3"
    },
    "accelerator": "GPU"
  },
  "cells": [
    {
      "cell_type": "markdown",
      "metadata": {
        "id": "-bAlaKvEBkkx"
      },
      "source": [
        "https://youtu.be/f1fXCRtSUWU"
      ]
    },
    {
      "cell_type": "code",
      "metadata": {
        "id": "GtLADllm6s_B"
      },
      "source": [
        "import pandas as pd\n",
        "import numpy as np\n",
        "import matplotlib.pyplot as plt\n",
        "import seaborn as sns\n",
        "\n",
        "from sklearn.model_selection import train_test_split\n",
        "from sklearn.metrics import confusion_matrix\n",
        "\n",
        "from keras.models import Sequential\n",
        "from keras.layers import Conv2D, MaxPooling2D # convolution layers\n",
        "from keras.layers import Dense, Flatten # core layers\n",
        "import tensorflow as tf\n",
        "from keras.layers.normalization import BatchNormalization"
      ],
      "execution_count": 230,
      "outputs": []
    },
    {
      "cell_type": "code",
      "metadata": {
        "id": "LJ7Lvu5LECaF"
      },
      "source": [
        "from keras.datasets import mnist"
      ],
      "execution_count": 231,
      "outputs": []
    },
    {
      "cell_type": "code",
      "metadata": {
        "id": "Yc_fkPLOIx2b"
      },
      "source": [
        "(X_train, y_train), (X_test, y_test) = mnist.load_data()"
      ],
      "execution_count": 232,
      "outputs": []
    },
    {
      "cell_type": "code",
      "metadata": {
        "colab": {
          "base_uri": "https://localhost:8080/",
          "height": 246
        },
        "id": "XHXd2rNhI9dr",
        "outputId": "24cc21b9-02fb-4e33-f7de-41cc88e9dd40"
      },
      "source": [
        "i=0; j=0; out = []\n",
        "while i<10:\n",
        "    if i == y_train[j]:\n",
        "        out.append(X_train[j])\n",
        "        i+=1\n",
        "    j+=1\n",
        "plt.figure(figsize=(10, 4))\n",
        "for i, x in enumerate(out):\n",
        "    plt.subplot(2, 5, i+1); plt.axis('off')\n",
        "    plt.imshow(x, cmap='gray')\n",
        "plt.show()\n"
      ],
      "execution_count": 233,
      "outputs": [
        {
          "output_type": "display_data",
          "data": {
            "image/png": "[encoded data removed]",
            "text/plain": [
              "<Figure size 720x288 with 10 Axes>"
            ]
          },
          "metadata": {
            "tags": []
          }
        }
      ]
    },
    {
      "cell_type": "code",
      "metadata": {
        "colab": {
          "base_uri": "https://localhost:8080/"
        },
        "id": "KWi1xRbtNo1W",
        "outputId": "6a79811b-ebf8-4d6f-abd4-299e221c12c1"
      },
      "source": [
        "X_train.shape, y_train.shape, X_test.shape, y_test.shape"
      ],
      "execution_count": 234,
      "outputs": [
        {
          "output_type": "execute_result",
          "data": {
            "text/plain": [
              "((60000, 28, 28), (60000,), (10000, 28, 28), (10000,))"
            ]
          },
          "metadata": {
            "tags": []
          },
          "execution_count": 234
        }
      ]
    },
    {
      "cell_type": "code",
      "metadata": {
        "id": "l6WIQlcX7uqt"
      },
      "source": [
        "X_train = X_train.reshape(X_train.shape[0], 28, 28, 1)\n",
        "X_test = X_test.reshape(X_test.shape[0], 28, 28, 1)"
      ],
      "execution_count": 235,
      "outputs": []
    },
    {
      "cell_type": "code",
      "metadata": {
        "colab": {
          "base_uri": "https://localhost:8080/"
        },
        "id": "ukPdiNvm755U",
        "outputId": "adfc518c-60a9-436e-ea94-68a1e59ce5ed"
      },
      "source": [
        "X_train.shape, y_train.shape, X_test.shape, y_test.shape"
      ],
      "execution_count": 236,
      "outputs": [
        {
          "output_type": "execute_result",
          "data": {
            "text/plain": [
              "((60000, 28, 28, 1), (60000,), (10000, 28, 28, 1), (10000,))"
            ]
          },
          "metadata": {
            "tags": []
          },
          "execution_count": 236
        }
      ]
    },
    {
      "cell_type": "code",
      "metadata": {
        "id": "i3mzipaqM14-"
      },
      "source": [
        "# Data Normalization\n",
        "X_train = X_train / 255.0\n",
        "X_test = X_test / 255.0"
      ],
      "execution_count": 237,
      "outputs": []
    },
    {
      "cell_type": "code",
      "metadata": {
        "id": "6uVa6qliPtyv",
        "colab": {
          "base_uri": "https://localhost:8080/"
        },
        "outputId": "1f709187-cf4c-408b-e4fc-177c903c9bd8"
      },
      "source": [
        "# Define Model\n",
        "model = Sequential()\n",
        "model.add(Conv2D(filters=64, kernel_size = (3,3), activation=\"relu\", input_shape=(28,28,1)))\n",
        "model.add(Conv2D(filters=64, kernel_size = (3,3), activation=\"relu\"))\n",
        "model.add(MaxPooling2D(pool_size=(2,2)))\n",
        "model.add(BatchNormalization())\n",
        "\n",
        "model.add(Conv2D(filters=128, kernel_size = (3,3), activation=\"relu\"))\n",
        "model.add(Conv2D(filters=128, kernel_size = (3,3), activation=\"relu\"))\n",
        "model.add(MaxPooling2D(pool_size=(2,2)))\n",
        "model.add(BatchNormalization())    \n",
        "\n",
        "model.add(Conv2D(filters=128, kernel_size = (3,3), activation=\"relu\"))    \n",
        "model.add(MaxPooling2D(pool_size=(2,2)))\n",
        "model.add(BatchNormalization())\n",
        "\n",
        "model.add(Conv2D(filters=256, kernel_size = (1,1), activation=\"relu\"))    \n",
        "model.add(MaxPooling2D(pool_size=(1,1)))\n",
        "model.add(BatchNormalization())\n",
        "\n",
        "model.add(Flatten())\n",
        "model.add(BatchNormalization())\n",
        "\n",
        "model.add(Dense(512,activation=\"relu\"))    \n",
        "model.add(Dense(10,activation=\"softmax\"))\n",
        "model.summary()\n"
      ],
      "execution_count": 289,
      "outputs": [
        {
          "output_type": "stream",
          "text": [
            "Model: \"sequential_41\"\n",
            "_________________________________________________________________\n",
            "Layer (type)                 Output Shape              Param #   \n",
            "=================================================================\n",
            "conv2d_190 (Conv2D)          (None, 26, 26, 64)        640       \n",
            "_________________________________________________________________\n",
            "conv2d_191 (Conv2D)          (None, 24, 24, 64)        36928     \n",
            "_________________________________________________________________\n",
            "max_pooling2d_117 (MaxPoolin (None, 12, 12, 64)        0         \n",
            "_________________________________________________________________\n",
            "batch_normalization_138 (Bat (None, 12, 12, 64)        256       \n",
            "_________________________________________________________________\n",
            "conv2d_192 (Conv2D)          (None, 10, 10, 128)       73856     \n",
            "_________________________________________________________________\n",
            "conv2d_193 (Conv2D)          (None, 8, 8, 128)         147584    \n",
            "_________________________________________________________________\n",
            "max_pooling2d_118 (MaxPoolin (None, 4, 4, 128)         0         \n",
            "_________________________________________________________________\n",
            "batch_normalization_139 (Bat (None, 4, 4, 128)         512       \n",
            "_________________________________________________________________\n",
            "conv2d_194 (Conv2D)          (None, 2, 2, 128)         147584    \n",
            "_________________________________________________________________\n",
            "max_pooling2d_119 (MaxPoolin (None, 1, 1, 128)         0         \n",
            "_________________________________________________________________\n",
            "batch_normalization_140 (Bat (None, 1, 1, 128)         512       \n",
            "_________________________________________________________________\n",
            "conv2d_195 (Conv2D)          (None, 1, 1, 256)         33024     \n",
            "_________________________________________________________________\n",
            "max_pooling2d_120 (MaxPoolin (None, 1, 1, 256)         0         \n",
            "_________________________________________________________________\n",
            "batch_normalization_141 (Bat (None, 1, 1, 256)         1024      \n",
            "_________________________________________________________________\n",
            "flatten_34 (Flatten)         (None, 256)               0         \n",
            "_________________________________________________________________\n",
            "batch_normalization_142 (Bat (None, 256)               1024      \n",
            "_________________________________________________________________\n",
            "dense_68 (Dense)             (None, 512)               131584    \n",
            "_________________________________________________________________\n",
            "dense_69 (Dense)             (None, 10)                5130      \n",
            "=================================================================\n",
            "Total params: 579,658\n",
            "Trainable params: 577,994\n",
            "Non-trainable params: 1,664\n",
            "_________________________________________________________________\n"
          ],
          "name": "stdout"
        }
      ]
    },
    {
      "cell_type": "code",
      "metadata": {
        "id": "x_PzzDVp2nBt"
      },
      "source": [
        "loss_fn = tf.keras.losses.SparseCategoricalCrossentropy(from_logits=True)\n",
        "\n",
        "model.compile(optimizer='adamax', loss=loss_fn, metrics=['accuracy'])\n"
      ],
      "execution_count": 290,
      "outputs": []
    },
    {
      "cell_type": "code",
      "metadata": {
        "id": "UpoS9ipp5o3Y"
      },
      "source": [
        "myCallback = tf.keras.callbacks.ReduceLROnPlateau(\n",
        "    monitor=\"val_loss\",\n",
        "    factor=0.1,\n",
        "    patience=3,\n",
        "    min_lr=0,\n",
        "    verbose=1\n",
        ")"
      ],
      "execution_count": 291,
      "outputs": []
    },
    {
      "cell_type": "code",
      "metadata": {
        "colab": {
          "base_uri": "https://localhost:8080/"
        },
        "id": "L9bUK1ce6URO",
        "outputId": "c049204d-1650-4139-82d3-883700d83950"
      },
      "source": [
        "# Training model\n",
        "history=model.fit(X_train,\n",
        "        y_train,\n",
        "        epochs=50,\n",
        "        verbose=1,\n",
        "        validation_split=0.2,\n",
        "        callbacks= [myCallback]\n",
        "    )"
      ],
      "execution_count": 292,
      "outputs": [
        {
          "output_type": "stream",
          "text": [
            "Epoch 1/50\n",
            "1500/1500 [==============================] - 8s 6ms/step - loss: 1.5034 - accuracy: 0.9629 - val_loss: 1.4778 - val_accuracy: 0.9844\n",
            "Epoch 2/50\n",
            "1500/1500 [==============================] - 8s 5ms/step - loss: 1.4786 - accuracy: 0.9833 - val_loss: 1.4740 - val_accuracy: 0.9882\n",
            "Epoch 3/50\n",
            "1500/1500 [==============================] - 8s 5ms/step - loss: 1.4744 - accuracy: 0.9874 - val_loss: 1.4730 - val_accuracy: 0.9887\n",
            "Epoch 4/50\n",
            "1500/1500 [==============================] - 8s 5ms/step - loss: 1.4721 - accuracy: 0.9897 - val_loss: 1.4727 - val_accuracy: 0.9892\n",
            "Epoch 5/50\n",
            "1500/1500 [==============================] - 8s 5ms/step - loss: 1.4709 - accuracy: 0.9905 - val_loss: 1.4715 - val_accuracy: 0.9900\n",
            "Epoch 6/50\n",
            "1500/1500 [==============================] - 8s 5ms/step - loss: 1.4692 - accuracy: 0.9923 - val_loss: 1.4709 - val_accuracy: 0.9902\n",
            "Epoch 7/50\n",
            "1500/1500 [==============================] - 8s 5ms/step - loss: 1.4681 - accuracy: 0.9934 - val_loss: 1.4717 - val_accuracy: 0.9896\n",
            "Epoch 8/50\n",
            "1500/1500 [==============================] - 8s 5ms/step - loss: 1.4677 - accuracy: 0.9937 - val_loss: 1.4695 - val_accuracy: 0.9915\n",
            "Epoch 9/50\n",
            "1500/1500 [==============================] - 8s 5ms/step - loss: 1.4669 - accuracy: 0.9944 - val_loss: 1.4687 - val_accuracy: 0.9925\n",
            "Epoch 10/50\n",
            "1500/1500 [==============================] - 8s 5ms/step - loss: 1.4663 - accuracy: 0.9950 - val_loss: 1.4694 - val_accuracy: 0.9922\n",
            "Epoch 11/50\n",
            "1500/1500 [==============================] - 8s 5ms/step - loss: 1.4661 - accuracy: 0.9953 - val_loss: 1.4699 - val_accuracy: 0.9913\n",
            "Epoch 12/50\n",
            "1499/1500 [============================>.] - ETA: 0s - loss: 1.4659 - accuracy: 0.9954\n",
            "Epoch 00012: ReduceLROnPlateau reducing learning rate to 0.00010000000474974513.\n",
            "1500/1500 [==============================] - 8s 5ms/step - loss: 1.4660 - accuracy: 0.9954 - val_loss: 1.4702 - val_accuracy: 0.9911\n",
            "Epoch 13/50\n",
            "1500/1500 [==============================] - 8s 5ms/step - loss: 1.4651 - accuracy: 0.9962 - val_loss: 1.4675 - val_accuracy: 0.9937\n",
            "Epoch 14/50\n",
            "1500/1500 [==============================] - 8s 6ms/step - loss: 1.4639 - accuracy: 0.9974 - val_loss: 1.4668 - val_accuracy: 0.9944\n",
            "Epoch 15/50\n",
            "1500/1500 [==============================] - 8s 5ms/step - loss: 1.4635 - accuracy: 0.9978 - val_loss: 1.4665 - val_accuracy: 0.9948\n",
            "Epoch 16/50\n",
            "1500/1500 [==============================] - 9s 6ms/step - loss: 1.4632 - accuracy: 0.9980 - val_loss: 1.4664 - val_accuracy: 0.9949\n",
            "Epoch 17/50\n",
            "1500/1500 [==============================] - 9s 6ms/step - loss: 1.4630 - accuracy: 0.9983 - val_loss: 1.4665 - val_accuracy: 0.9949\n",
            "Epoch 18/50\n",
            "1500/1500 [==============================] - 8s 5ms/step - loss: 1.4631 - accuracy: 0.9982 - val_loss: 1.4661 - val_accuracy: 0.9951\n",
            "Epoch 19/50\n",
            "1500/1500 [==============================] - 8s 5ms/step - loss: 1.4630 - accuracy: 0.9983 - val_loss: 1.4662 - val_accuracy: 0.9950\n",
            "Epoch 20/50\n",
            "1500/1500 [==============================] - 8s 5ms/step - loss: 1.4628 - accuracy: 0.9984 - val_loss: 1.4663 - val_accuracy: 0.9951\n",
            "Epoch 21/50\n",
            "1499/1500 [============================>.] - ETA: 0s - loss: 1.4626 - accuracy: 0.9987\n",
            "Epoch 00021: ReduceLROnPlateau reducing learning rate to 1.0000000474974514e-05.\n",
            "1500/1500 [==============================] - 8s 5ms/step - loss: 1.4626 - accuracy: 0.9987 - val_loss: 1.4662 - val_accuracy: 0.9950\n",
            "Epoch 22/50\n",
            "1500/1500 [==============================] - 8s 5ms/step - loss: 1.4628 - accuracy: 0.9985 - val_loss: 1.4661 - val_accuracy: 0.9951\n",
            "Epoch 23/50\n",
            "1500/1500 [==============================] - 8s 5ms/step - loss: 1.4627 - accuracy: 0.9985 - val_loss: 1.4661 - val_accuracy: 0.9952\n",
            "Epoch 24/50\n",
            "1500/1500 [==============================] - 8s 5ms/step - loss: 1.4629 - accuracy: 0.9984 - val_loss: 1.4660 - val_accuracy: 0.9952\n",
            "Epoch 25/50\n",
            "1500/1500 [==============================] - 8s 5ms/step - loss: 1.4627 - accuracy: 0.9986 - val_loss: 1.4660 - val_accuracy: 0.9952\n",
            "Epoch 26/50\n",
            "1500/1500 [==============================] - 8s 5ms/step - loss: 1.4625 - accuracy: 0.9987 - val_loss: 1.4660 - val_accuracy: 0.9952\n",
            "Epoch 27/50\n",
            "1494/1500 [============================>.] - ETA: 0s - loss: 1.4627 - accuracy: 0.9985\n",
            "Epoch 00027: ReduceLROnPlateau reducing learning rate to 1.0000000656873453e-06.\n",
            "1500/1500 [==============================] - 8s 5ms/step - loss: 1.4627 - accuracy: 0.9985 - val_loss: 1.4660 - val_accuracy: 0.9951\n",
            "Epoch 28/50\n",
            "1500/1500 [==============================] - 8s 5ms/step - loss: 1.4626 - accuracy: 0.9987 - val_loss: 1.4660 - val_accuracy: 0.9952\n",
            "Epoch 29/50\n",
            "1500/1500 [==============================] - 8s 5ms/step - loss: 1.4627 - accuracy: 0.9986 - val_loss: 1.4661 - val_accuracy: 0.9951\n",
            "Epoch 30/50\n",
            "1497/1500 [============================>.] - ETA: 0s - loss: 1.4627 - accuracy: 0.9985\n",
            "Epoch 00030: ReduceLROnPlateau reducing learning rate to 1.0000001111620805e-07.\n",
            "1500/1500 [==============================] - 8s 5ms/step - loss: 1.4627 - accuracy: 0.9985 - val_loss: 1.4660 - val_accuracy: 0.9952\n",
            "Epoch 31/50\n",
            "1500/1500 [==============================] - 8s 5ms/step - loss: 1.4626 - accuracy: 0.9986 - val_loss: 1.4661 - val_accuracy: 0.9952\n",
            "Epoch 32/50\n",
            "1500/1500 [==============================] - 8s 5ms/step - loss: 1.4628 - accuracy: 0.9984 - val_loss: 1.4661 - val_accuracy: 0.9952\n",
            "Epoch 33/50\n",
            "1492/1500 [============================>.] - ETA: 0s - loss: 1.4627 - accuracy: 0.9986\n",
            "Epoch 00033: ReduceLROnPlateau reducing learning rate to 1.000000082740371e-08.\n",
            "1500/1500 [==============================] - 8s 5ms/step - loss: 1.4626 - accuracy: 0.9986 - val_loss: 1.4660 - val_accuracy: 0.9952\n",
            "Epoch 34/50\n",
            "1500/1500 [==============================] - 8s 5ms/step - loss: 1.4626 - accuracy: 0.9986 - val_loss: 1.4661 - val_accuracy: 0.9952\n",
            "Epoch 35/50\n",
            "1500/1500 [==============================] - 8s 5ms/step - loss: 1.4626 - accuracy: 0.9986 - val_loss: 1.4660 - val_accuracy: 0.9951\n",
            "Epoch 36/50\n",
            "1496/1500 [============================>.] - ETA: 0s - loss: 1.4626 - accuracy: 0.9986\n",
            "Epoch 00036: ReduceLROnPlateau reducing learning rate to 1.000000082740371e-09.\n",
            "1500/1500 [==============================] - 8s 5ms/step - loss: 1.4626 - accuracy: 0.9986 - val_loss: 1.4661 - val_accuracy: 0.9952\n",
            "Epoch 37/50\n",
            "1500/1500 [==============================] - 8s 5ms/step - loss: 1.4627 - accuracy: 0.9985 - val_loss: 1.4661 - val_accuracy: 0.9952\n",
            "Epoch 38/50\n",
            "1500/1500 [==============================] - 8s 5ms/step - loss: 1.4626 - accuracy: 0.9986 - val_loss: 1.4660 - val_accuracy: 0.9952\n",
            "Epoch 39/50\n",
            "1496/1500 [============================>.] - ETA: 0s - loss: 1.4627 - accuracy: 0.9986\n",
            "Epoch 00039: ReduceLROnPlateau reducing learning rate to 1.000000082740371e-10.\n",
            "1500/1500 [==============================] - 8s 6ms/step - loss: 1.4627 - accuracy: 0.9986 - val_loss: 1.4660 - val_accuracy: 0.9952\n",
            "Epoch 40/50\n",
            "1500/1500 [==============================] - 8s 6ms/step - loss: 1.4627 - accuracy: 0.9985 - val_loss: 1.4660 - val_accuracy: 0.9952\n",
            "Epoch 41/50\n",
            "1500/1500 [==============================] - 8s 5ms/step - loss: 1.4627 - accuracy: 0.9986 - val_loss: 1.4661 - val_accuracy: 0.9952\n",
            "Epoch 42/50\n",
            "1494/1500 [============================>.] - ETA: 0s - loss: 1.4626 - accuracy: 0.9986\n",
            "Epoch 00042: ReduceLROnPlateau reducing learning rate to 1.000000082740371e-11.\n",
            "1500/1500 [==============================] - 8s 5ms/step - loss: 1.4626 - accuracy: 0.9986 - val_loss: 1.4660 - val_accuracy: 0.9952\n",
            "Epoch 43/50\n",
            "1500/1500 [==============================] - 8s 5ms/step - loss: 1.4626 - accuracy: 0.9986 - val_loss: 1.4661 - val_accuracy: 0.9952\n",
            "Epoch 44/50\n",
            "1500/1500 [==============================] - 8s 6ms/step - loss: 1.4626 - accuracy: 0.9986 - val_loss: 1.4660 - val_accuracy: 0.9952\n",
            "Epoch 45/50\n",
            "1498/1500 [============================>.] - ETA: 0s - loss: 1.4626 - accuracy: 0.9986\n",
            "Epoch 00045: ReduceLROnPlateau reducing learning rate to 1.000000082740371e-12.\n",
            "1500/1500 [==============================] - 8s 5ms/step - loss: 1.4626 - accuracy: 0.9986 - val_loss: 1.4661 - val_accuracy: 0.9952\n",
            "Epoch 46/50\n",
            "1500/1500 [==============================] - 8s 5ms/step - loss: 1.4626 - accuracy: 0.9986 - val_loss: 1.4661 - val_accuracy: 0.9951\n",
            "Epoch 47/50\n",
            "1500/1500 [==============================] - 8s 5ms/step - loss: 1.4626 - accuracy: 0.9986 - val_loss: 1.4660 - val_accuracy: 0.9951\n",
            "Epoch 48/50\n",
            "1496/1500 [============================>.] - ETA: 0s - loss: 1.4626 - accuracy: 0.9987\n",
            "Epoch 00048: ReduceLROnPlateau reducing learning rate to 1.0000001044244145e-13.\n",
            "1500/1500 [==============================] - 8s 5ms/step - loss: 1.4626 - accuracy: 0.9987 - val_loss: 1.4661 - val_accuracy: 0.9952\n",
            "Epoch 49/50\n",
            "1500/1500 [==============================] - 8s 5ms/step - loss: 1.4626 - accuracy: 0.9986 - val_loss: 1.4661 - val_accuracy: 0.9951\n",
            "Epoch 50/50\n",
            "1500/1500 [==============================] - 8s 5ms/step - loss: 1.4627 - accuracy: 0.9985 - val_loss: 1.4660 - val_accuracy: 0.9952\n"
          ],
          "name": "stdout"
        }
      ]
    },
    {
      "cell_type": "code",
      "metadata": {
        "colab": {
          "base_uri": "https://localhost:8080/",
          "height": 432
        },
        "id": "xXKmnQL7-R5h",
        "outputId": "ad299b49-4b07-4627-9c18-303dac3886c0"
      },
      "source": [
        "plt.figure(figsize=(15,7))\n",
        "ax1 = plt.subplot(1,2,1)\n",
        "ax1.plot(history.history['loss'], color='b', label='Training Loss')\n",
        "ax1.plot(history.history['val_loss'], color='r', label = 'Validation Loss',axes=ax1)\n",
        "legend = ax1.legend(loc='best', shadow=True)\n",
        "ax2 = plt.subplot(1,2,2)\n",
        "ax2.plot(history.history['accuracy'], color='b', label='Training Accuracy')\n",
        "ax2.plot(history.history['val_accuracy'], color='r', label = 'Validation Accuracy')\n",
        "legend = ax2.legend(loc='best', shadow=True)"
      ],
      "execution_count": 293,
      "outputs": [
        {
          "output_type": "display_data",
          "data": {
            "image/png": "[encoded data removed]",
            "text/plain": [
              "<Figure size 1080x504 with 2 Axes>"
            ]
          },
          "metadata": {
            "tags": []
          }
        }
      ]
    },
    {
      "cell_type": "code",
      "metadata": {
        "colab": {
          "base_uri": "https://localhost:8080/"
        },
        "id": "zbxbtEbr-lQ0",
        "outputId": "eab2bead-6cde-4be1-b5ff-36f616ce1906"
      },
      "source": [
        "out = model.evaluate(X_test, y_test)\n",
        "out"
      ],
      "execution_count": 294,
      "outputs": [
        {
          "output_type": "stream",
          "text": [
            "313/313 [==============================] - 1s 3ms/step - loss: 1.4659 - accuracy: 0.9955\n"
          ],
          "name": "stdout"
        },
        {
          "output_type": "execute_result",
          "data": {
            "text/plain": [
              "[1.4659268856048584, 0.9955000281333923]"
            ]
          },
          "metadata": {
            "tags": []
          },
          "execution_count": 294
        }
      ]
    },
    {
      "cell_type": "code",
      "metadata": {
        "colab": {
          "base_uri": "https://localhost:8080/"
        },
        "id": "Bv2w1PCuTRn-",
        "outputId": "9960f550-a5fe-49e4-a207-254312b6318e"
      },
      "source": [
        "pred = model.predict(X_test)\n",
        "pred[0]"
      ],
      "execution_count": 295,
      "outputs": [
        {
          "output_type": "execute_result",
          "data": {
            "text/plain": [
              "array([8.4748791e-14, 1.5599764e-13, 1.1677853e-12, 2.2916517e-12,\n",
              "       7.0849541e-15, 1.8117687e-14, 1.3596251e-15, 1.0000000e+00,\n",
              "       7.5254566e-15, 3.3675044e-12], dtype=float32)"
            ]
          },
          "metadata": {
            "tags": []
          },
          "execution_count": 295
        }
      ]
    },
    {
      "cell_type": "code",
      "metadata": {
        "colab": {
          "base_uri": "https://localhost:8080/"
        },
        "id": "CQrfONpMTXtB",
        "outputId": "ecce09df-aff3-4448-cc1b-84517af5562a"
      },
      "source": [
        "y_pred=[]\n",
        "for x in pred:\n",
        "    y_pred.append(np.argmax(x))\n",
        "y_pred[0]"
      ],
      "execution_count": 296,
      "outputs": [
        {
          "output_type": "execute_result",
          "data": {
            "text/plain": [
              "7"
            ]
          },
          "metadata": {
            "tags": []
          },
          "execution_count": 296
        }
      ]
    },
    {
      "cell_type": "code",
      "metadata": {
        "colab": {
          "base_uri": "https://localhost:8080/",
          "height": 496
        },
        "id": "gOEAy3VOT0rt",
        "outputId": "74bd6c09-3d34-4d42-ff8e-40d353b65cc6"
      },
      "source": [
        "from sklearn.metrics import confusion_matrix; sns.set_theme()\n",
        "\n",
        "cm = confusion_matrix(y_test, y_pred)\n",
        "\n",
        "from sklearn.metrics import accuracy_score \n",
        "print (\"\\nAccuracy : \", accuracy_score(y_test, y_pred), \"\\n\")\n",
        "\n",
        "print(\"CONFUSION MATRIX:\\n\")\n",
        "labels = [0,1,2,3,4,5,6,7,8,9]\n",
        "with sns.axes_style(\"white\"):\n",
        "    f, ax = plt.subplots(figsize=(6, 6))\n",
        "    ax = sns.heatmap(cm, square=True, annot=True, fmt='d', cbar=False,\n",
        "            xticklabels=labels, yticklabels=labels)\n",
        "\n",
        "plt.ylabel('TRUE LABELS')\n",
        "plt.xlabel('PREDICTED LABELS');\n",
        "np.unique(y_test, return_counts=True)[1]"
      ],
      "execution_count": 297,
      "outputs": [
        {
          "output_type": "stream",
          "text": [
            "\n",
            "Accuracy :  0.9955 \n",
            "\n",
            "CONFUSION MATRIX:\n",
            "\n"
          ],
          "name": "stdout"
        },
        {
          "output_type": "execute_result",
          "data": {
            "text/plain": [
              "array([ 980, 1135, 1032, 1010,  982,  892,  958, 1028,  974, 1009])"
            ]
          },
          "metadata": {
            "tags": []
          },
          "execution_count": 297
        },
        {
          "output_type": "display_data",
          "data": {
            "image/png": "[encoded data removed]",
            "text/plain": [
              "<Figure size 432x432 with 1 Axes>"
            ]
          },
          "metadata": {
            "tags": []
          }
        }
      ]
    },
    {
      "cell_type": "code",
      "metadata": {
        "id": "ZBXjwNN1wZ2j"
      },
      "source": [
        ""
      ],
      "execution_count": 297,
      "outputs": []
    }
  ]
}